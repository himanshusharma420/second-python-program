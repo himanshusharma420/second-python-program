{
  "nbformat": 4,
  "nbformat_minor": 0,
  "metadata": {
    "colab": {
      "provenance": []
    },
    "kernelspec": {
      "name": "python3",
      "display_name": "Python 3"
    },
    "language_info": {
      "name": "python"
    }
  },
  "cells": [
    {
      "cell_type": "markdown",
      "source": [
        "Relational operators:\n",
        "\n",
        "---\n",
        "\n"
      ],
      "metadata": {
        "id": "7nZsJW3EN7_L"
      }
    },
    {
      "cell_type": "markdown",
      "source": [
        "Types of relational operator."
      ],
      "metadata": {
        "id": "ViyBKA1uU454"
      }
    },
    {
      "cell_type": "markdown",
      "source": [
        "\n",
        "\n",
        "1. **greater than than (>): checks if the left operand is greater than the right operand.\n",
        "\n",
        "\n"
      ],
      "metadata": {
        "id": "7P5HG3MHOIi2"
      }
    },
    {
      "cell_type": "markdown",
      "source": [
        "example of greater than:"
      ],
      "metadata": {
        "id": "XNYAX-NTOvfb"
      }
    },
    {
      "cell_type": "code",
      "source": [
        "age= int(input(\"enter your age \"))\n",
        "print(age>18)\n",
        "\n",
        "#if your age under 18,than output is false:"
      ],
      "metadata": {
        "colab": {
          "base_uri": "https://localhost:8080/"
        },
        "id": "BBdVSPVjO0PL",
        "outputId": "b4af4292-e8c5-41f9-e3bb-8bd3d33b57fc"
      },
      "execution_count": null,
      "outputs": [
        {
          "output_type": "stream",
          "name": "stdout",
          "text": [
            "enter your age 17\n",
            "False\n"
          ]
        }
      ]
    },
    {
      "cell_type": "markdown",
      "source": [
        "\n",
        " 2) (<): Returns True if the left operand is less than the right operand, False otherwise.\n"
      ],
      "metadata": {
        "id": "BiqG4c9CWztT"
      }
    },
    {
      "cell_type": "markdown",
      "source": [
        "example of less than:"
      ],
      "metadata": {
        "id": "2OSNjp3lPpHv"
      }
    },
    {
      "cell_type": "code",
      "source": [
        "age=int(input(\"enter your age\"))\n",
        "print(age<18)\n",
        "\n",
        "# if you are greater then 18, than output is true :"
      ],
      "metadata": {
        "colab": {
          "base_uri": "https://localhost:8080/"
        },
        "id": "6nR7vaAePvQk",
        "outputId": "28950d95-7ee0-46e1-efcd-6196723b60cb"
      },
      "execution_count": null,
      "outputs": [
        {
          "output_type": "stream",
          "name": "stdout",
          "text": [
            "enter your age19\n",
            "False\n"
          ]
        }
      ]
    },
    {
      "cell_type": "markdown",
      "source": [
        "3) example of greater than or equall to: (>=)"
      ],
      "metadata": {
        "id": "DNE8czLDVWga"
      }
    },
    {
      "cell_type": "markdown",
      "source": [
        " Returns True if the left operand is greater than or equal to the right operand, False otherwise."
      ],
      "metadata": {
        "id": "YRREdH5hYvy5"
      }
    },
    {
      "cell_type": "code",
      "source": [
        "age=int(input(\"enter your age \"))\n",
        "print(age>=20)\n"
      ],
      "metadata": {
        "colab": {
          "base_uri": "https://localhost:8080/"
        },
        "id": "EvX5wOHeVvFx",
        "outputId": "588b8134-4f97-44f5-f626-062d08f98025"
      },
      "execution_count": 1,
      "outputs": [
        {
          "output_type": "stream",
          "name": "stdout",
          "text": [
            "enter your age 24\n",
            "True\n"
          ]
        }
      ]
    },
    {
      "cell_type": "markdown",
      "source": [
        "4) example of less than or equall to: (<=)"
      ],
      "metadata": {
        "id": "D18DczqbY8ae"
      }
    },
    {
      "cell_type": "markdown",
      "source": [
        "Returns True if the left operand is less than or equal to the right operand, False otherwise.\n"
      ],
      "metadata": {
        "id": "lewzFo28ZTV_"
      }
    },
    {
      "cell_type": "code",
      "source": [
        "age=int(input(\"enter your age\"))\n",
        "print(age<=20)"
      ],
      "metadata": {
        "colab": {
          "base_uri": "https://localhost:8080/"
        },
        "id": "FkXxRgVsZZC1",
        "outputId": "a25013aa-7ef2-44b3-c7a4-a81a4f21feb7"
      },
      "execution_count": 2,
      "outputs": [
        {
          "output_type": "stream",
          "name": "stdout",
          "text": [
            "enter your age20\n",
            "True\n"
          ]
        }
      ]
    },
    {
      "cell_type": "markdown",
      "source": [
        "5) example of equal to (==):"
      ],
      "metadata": {
        "id": "bvbFrC4QZ4Ce"
      }
    },
    {
      "cell_type": "markdown",
      "source": [
        "Equal to (==): Returns True if the operands are equal, False otherwise."
      ],
      "metadata": {
        "id": "5gCv3DrYaL6j"
      }
    },
    {
      "cell_type": "code",
      "source": [
        "age=int(input(\"enter your age\"))\n",
        "print(age==25)"
      ],
      "metadata": {
        "colab": {
          "base_uri": "https://localhost:8080/"
        },
        "id": "TWIWGwQgaO13",
        "outputId": "0c6cc0c9-5fe2-42bd-f760-5b5ca038fc43"
      },
      "execution_count": 3,
      "outputs": [
        {
          "output_type": "stream",
          "name": "stdout",
          "text": [
            "enter your age25\n",
            "True\n"
          ]
        }
      ]
    }
  ]
}